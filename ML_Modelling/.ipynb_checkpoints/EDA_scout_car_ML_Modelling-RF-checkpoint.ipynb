{
 "cells": [
  {
   "cell_type": "code",
   "execution_count": 1,
   "metadata": {},
   "outputs": [],
   "source": [
    "import numpy as np\n",
    "import pandas as pd \n",
    "import statsmodels.api as sm\n",
    "import seaborn as sns\n",
    "import matplotlib.pyplot as plt\n",
    "from sklearn.preprocessing import scale, StandardScaler\n",
    "from sklearn.model_selection import train_test_split, GridSearchCV, cross_val_score\n",
    "from sklearn.metrics import confusion_matrix, accuracy_score, mean_squared_error, r2_score, roc_auc_score, roc_curve, classification_report\n",
    "from sklearn.linear_model import LogisticRegression\n",
    "from sklearn.neighbors import KNeighborsClassifier\n",
    "from sklearn.tree import DecisionTreeClassifier\n",
    "from sklearn.ensemble import RandomForestClassifier\n",
    "from sklearn.ensemble import GradientBoostingClassifier\n",
    "import warnings\n",
    "warnings.filterwarnings(\"ignore\")"
   ]
  },
  {
   "cell_type": "code",
   "execution_count": 2,
   "metadata": {},
   "outputs": [],
   "source": [
    "df=pd.read_csv(\"final_scout_20201204.csv\")"
   ]
  },
  {
   "cell_type": "code",
   "execution_count": 3,
   "metadata": {},
   "outputs": [
    {
     "data": {
      "text/html": [
       "<div>\n",
       "<style scoped>\n",
       "    .dataframe tbody tr th:only-of-type {\n",
       "        vertical-align: middle;\n",
       "    }\n",
       "\n",
       "    .dataframe tbody tr th {\n",
       "        vertical-align: top;\n",
       "    }\n",
       "\n",
       "    .dataframe thead th {\n",
       "        text-align: right;\n",
       "    }\n",
       "</style>\n",
       "<table border=\"1\" class=\"dataframe\">\n",
       "  <thead>\n",
       "    <tr style=\"text-align: right;\">\n",
       "      <th></th>\n",
       "      <th>price</th>\n",
       "      <th>km</th>\n",
       "      <th>hp</th>\n",
       "      <th>Previous_Owners</th>\n",
       "      <th>Inspection_New</th>\n",
       "      <th>Nr_of_Doors</th>\n",
       "      <th>Nr_of_Seats</th>\n",
       "      <th>Displacement</th>\n",
       "      <th>Gears</th>\n",
       "      <th>Age</th>\n",
       "      <th>...</th>\n",
       "      <th>Fuel_Benzine</th>\n",
       "      <th>Fuel_Diesel</th>\n",
       "      <th>Fuel_Electric</th>\n",
       "      <th>Fuel_LPG/CNG</th>\n",
       "      <th>Upholstery_Type_Cloth</th>\n",
       "      <th>Upholstery_Type_Part/Full Leather</th>\n",
       "      <th>Upholstery_Color_Black</th>\n",
       "      <th>Upholstery_Color_Brown</th>\n",
       "      <th>Upholstery_Color_Grey</th>\n",
       "      <th>Upholstery_Color_Other</th>\n",
       "    </tr>\n",
       "  </thead>\n",
       "  <tbody>\n",
       "    <tr>\n",
       "      <th>0</th>\n",
       "      <td>15770</td>\n",
       "      <td>56013.0</td>\n",
       "      <td>66.0</td>\n",
       "      <td>2.0</td>\n",
       "      <td>1</td>\n",
       "      <td>5.0</td>\n",
       "      <td>5.0</td>\n",
       "      <td>1422.0</td>\n",
       "      <td>5.0</td>\n",
       "      <td>3.0</td>\n",
       "      <td>...</td>\n",
       "      <td>0</td>\n",
       "      <td>1</td>\n",
       "      <td>0</td>\n",
       "      <td>0</td>\n",
       "      <td>1</td>\n",
       "      <td>0</td>\n",
       "      <td>1</td>\n",
       "      <td>0</td>\n",
       "      <td>0</td>\n",
       "      <td>0</td>\n",
       "    </tr>\n",
       "    <tr>\n",
       "      <th>1</th>\n",
       "      <td>14500</td>\n",
       "      <td>80000.0</td>\n",
       "      <td>141.0</td>\n",
       "      <td>1.0</td>\n",
       "      <td>0</td>\n",
       "      <td>3.0</td>\n",
       "      <td>4.0</td>\n",
       "      <td>1798.0</td>\n",
       "      <td>7.0</td>\n",
       "      <td>2.0</td>\n",
       "      <td>...</td>\n",
       "      <td>1</td>\n",
       "      <td>0</td>\n",
       "      <td>0</td>\n",
       "      <td>0</td>\n",
       "      <td>1</td>\n",
       "      <td>0</td>\n",
       "      <td>0</td>\n",
       "      <td>0</td>\n",
       "      <td>1</td>\n",
       "      <td>0</td>\n",
       "    </tr>\n",
       "    <tr>\n",
       "      <th>2</th>\n",
       "      <td>14640</td>\n",
       "      <td>83450.0</td>\n",
       "      <td>85.0</td>\n",
       "      <td>1.0</td>\n",
       "      <td>0</td>\n",
       "      <td>4.0</td>\n",
       "      <td>4.0</td>\n",
       "      <td>1598.0</td>\n",
       "      <td>5.0</td>\n",
       "      <td>3.0</td>\n",
       "      <td>...</td>\n",
       "      <td>0</td>\n",
       "      <td>1</td>\n",
       "      <td>0</td>\n",
       "      <td>0</td>\n",
       "      <td>1</td>\n",
       "      <td>0</td>\n",
       "      <td>1</td>\n",
       "      <td>0</td>\n",
       "      <td>0</td>\n",
       "      <td>0</td>\n",
       "    </tr>\n",
       "    <tr>\n",
       "      <th>3</th>\n",
       "      <td>14500</td>\n",
       "      <td>73000.0</td>\n",
       "      <td>66.0</td>\n",
       "      <td>1.0</td>\n",
       "      <td>0</td>\n",
       "      <td>3.0</td>\n",
       "      <td>4.0</td>\n",
       "      <td>1422.0</td>\n",
       "      <td>6.0</td>\n",
       "      <td>3.0</td>\n",
       "      <td>...</td>\n",
       "      <td>0</td>\n",
       "      <td>1</td>\n",
       "      <td>0</td>\n",
       "      <td>0</td>\n",
       "      <td>1</td>\n",
       "      <td>0</td>\n",
       "      <td>1</td>\n",
       "      <td>0</td>\n",
       "      <td>0</td>\n",
       "      <td>0</td>\n",
       "    </tr>\n",
       "    <tr>\n",
       "      <th>4</th>\n",
       "      <td>16790</td>\n",
       "      <td>16200.0</td>\n",
       "      <td>66.0</td>\n",
       "      <td>1.0</td>\n",
       "      <td>1</td>\n",
       "      <td>5.0</td>\n",
       "      <td>5.0</td>\n",
       "      <td>1422.0</td>\n",
       "      <td>5.0</td>\n",
       "      <td>3.0</td>\n",
       "      <td>...</td>\n",
       "      <td>0</td>\n",
       "      <td>1</td>\n",
       "      <td>0</td>\n",
       "      <td>0</td>\n",
       "      <td>1</td>\n",
       "      <td>0</td>\n",
       "      <td>1</td>\n",
       "      <td>0</td>\n",
       "      <td>0</td>\n",
       "      <td>0</td>\n",
       "    </tr>\n",
       "  </tbody>\n",
       "</table>\n",
       "<p>5 rows × 145 columns</p>\n",
       "</div>"
      ],
      "text/plain": [
       "   price       km     hp  Previous_Owners  Inspection_New  Nr_of_Doors  \\\n",
       "0  15770  56013.0   66.0              2.0               1          5.0   \n",
       "1  14500  80000.0  141.0              1.0               0          3.0   \n",
       "2  14640  83450.0   85.0              1.0               0          4.0   \n",
       "3  14500  73000.0   66.0              1.0               0          3.0   \n",
       "4  16790  16200.0   66.0              1.0               1          5.0   \n",
       "\n",
       "   Nr_of_Seats  Displacement  Gears  Age  ...  Fuel_Benzine  Fuel_Diesel  \\\n",
       "0          5.0        1422.0    5.0  3.0  ...             0            1   \n",
       "1          4.0        1798.0    7.0  2.0  ...             1            0   \n",
       "2          4.0        1598.0    5.0  3.0  ...             0            1   \n",
       "3          4.0        1422.0    6.0  3.0  ...             0            1   \n",
       "4          5.0        1422.0    5.0  3.0  ...             0            1   \n",
       "\n",
       "   Fuel_Electric  Fuel_LPG/CNG  Upholstery_Type_Cloth  \\\n",
       "0              0             0                      1   \n",
       "1              0             0                      1   \n",
       "2              0             0                      1   \n",
       "3              0             0                      1   \n",
       "4              0             0                      1   \n",
       "\n",
       "   Upholstery_Type_Part/Full Leather  Upholstery_Color_Black  \\\n",
       "0                                  0                       1   \n",
       "1                                  0                       0   \n",
       "2                                  0                       1   \n",
       "3                                  0                       1   \n",
       "4                                  0                       1   \n",
       "\n",
       "   Upholstery_Color_Brown  Upholstery_Color_Grey  Upholstery_Color_Other  \n",
       "0                       0                      0                       0  \n",
       "1                       0                      1                       0  \n",
       "2                       0                      0                       0  \n",
       "3                       0                      0                       0  \n",
       "4                       0                      0                       0  \n",
       "\n",
       "[5 rows x 145 columns]"
      ]
     },
     "execution_count": 3,
     "metadata": {},
     "output_type": "execute_result"
    }
   ],
   "source": [
    "df.head()"
   ]
  },
  {
   "cell_type": "code",
   "execution_count": 4,
   "metadata": {},
   "outputs": [
    {
     "data": {
      "text/plain": [
       "(15915, 145)"
      ]
     },
     "execution_count": 4,
     "metadata": {},
     "output_type": "execute_result"
    }
   ],
   "source": [
    "df.shape"
   ]
  },
  {
   "cell_type": "code",
   "execution_count": 5,
   "metadata": {},
   "outputs": [
    {
     "data": {
      "text/plain": [
       "['price',\n",
       " 'km',\n",
       " 'hp',\n",
       " 'Previous_Owners',\n",
       " 'Inspection_New',\n",
       " 'Nr_of_Doors',\n",
       " 'Nr_of_Seats',\n",
       " 'Displacement',\n",
       " 'Gears',\n",
       " 'Age',\n",
       " 'Combumption_Comb',\n",
       " 'cc_Air conditioning',\n",
       " 'cc_Air suspension',\n",
       " 'cc_Armrest',\n",
       " 'cc_Automatic climate control',\n",
       " 'cc_Auxiliary heating',\n",
       " 'cc_Cruise control',\n",
       " 'cc_Electric Starter',\n",
       " 'cc_Electric tailgate',\n",
       " 'cc_Electrical side mirrors',\n",
       " 'cc_Electrically adjustable seats',\n",
       " 'cc_Electrically heated windshield',\n",
       " 'cc_Heads-up display',\n",
       " 'cc_Heated steering wheel',\n",
       " 'cc_Hill Holder',\n",
       " 'cc_Keyless central door lock',\n",
       " 'cc_Leather seats',\n",
       " 'cc_Leather steering wheel',\n",
       " 'cc_Light sensor',\n",
       " 'cc_Lumbar support',\n",
       " 'cc_Massage seats',\n",
       " 'cc_Multi-function steering wheel',\n",
       " 'cc_Navigation system',\n",
       " 'cc_Panorama roof',\n",
       " 'cc_Park Distance Control',\n",
       " 'cc_Parking assist system camera',\n",
       " 'cc_Parking assist system self-steering',\n",
       " 'cc_Parking assist system sensors front',\n",
       " 'cc_Parking assist system sensors rear',\n",
       " 'cc_Power windows',\n",
       " 'cc_Rain sensor',\n",
       " 'cc_Seat heating',\n",
       " 'cc_Seat ventilation',\n",
       " 'cc_Split rear seats',\n",
       " 'cc_Start-stop system',\n",
       " 'cc_Sunroof',\n",
       " 'cc_Tinted windows',\n",
       " 'cc_Wind deflector',\n",
       " 'cc_Windshield',\n",
       " 'em_Bluetooth',\n",
       " 'em_CD player',\n",
       " 'em_Digital radio',\n",
       " 'em_Hands-free equipment',\n",
       " 'em_MP3',\n",
       " 'em_On-board computer',\n",
       " 'em_Radio',\n",
       " 'em_Sound system',\n",
       " 'em_Television',\n",
       " 'em_USB',\n",
       " 'ex_Alloy wheels',\n",
       " 'ex_Cab or rented Car',\n",
       " 'ex_Catalytic Converter',\n",
       " 'ex_Handicapped enabled',\n",
       " 'ex_Right hand drive',\n",
       " 'ex_Roof rack',\n",
       " 'ex_Shift paddles',\n",
       " 'ex_Ski bag',\n",
       " 'ex_Sliding door',\n",
       " 'ex_Sport package',\n",
       " 'ex_Sport seats',\n",
       " 'ex_Sport suspension',\n",
       " 'ex_Touch screen',\n",
       " 'ex_Trailer hitch',\n",
       " 'ex_Tuned car',\n",
       " 'ex_Voice Control',\n",
       " 'ex_Winter tyres',\n",
       " 'ss_ABS',\n",
       " 'ss_Adaptive Cruise Control',\n",
       " 'ss_Adaptive headlights',\n",
       " 'ss_Alarm system',\n",
       " 'ss_Blind spot monitor',\n",
       " 'ss_Central door lock',\n",
       " 'ss_Central door lock with remote control',\n",
       " 'ss_Daytime running lights',\n",
       " 'ss_Driver drowsiness detection',\n",
       " 'ss_Driver-side airbag',\n",
       " 'ss_Electronic stability control',\n",
       " 'ss_Emergency brake assistant',\n",
       " 'ss_Emergency system',\n",
       " 'ss_Fog lights',\n",
       " 'ss_Head airbag',\n",
       " 'ss_Immobilizer',\n",
       " 'ss_Isofix',\n",
       " 'ss_LED Daytime Running Lights',\n",
       " 'ss_LED Headlights',\n",
       " 'ss_Lane departure warning system',\n",
       " 'ss_Night view assist',\n",
       " 'ss_Passenger-side airbag',\n",
       " 'ss_Power steering',\n",
       " 'ss_Rear airbag',\n",
       " 'ss_Side airbag',\n",
       " 'ss_Tire pressure monitoring system',\n",
       " 'ss_Traction control',\n",
       " 'ss_Traffic sign recognition',\n",
       " 'ss_Xenon headlights',\n",
       " 'make_model_Audi A1',\n",
       " 'make_model_Audi A2',\n",
       " 'make_model_Audi A3',\n",
       " 'make_model_Opel Astra',\n",
       " 'make_model_Opel Corsa',\n",
       " 'make_model_Opel Insignia',\n",
       " 'make_model_Renault Clio',\n",
       " 'make_model_Renault Duster',\n",
       " 'make_model_Renault Espace',\n",
       " 'body_type_Compact',\n",
       " 'body_type_Convertible',\n",
       " 'body_type_Coupe',\n",
       " 'body_type_Off-Road',\n",
       " 'body_type_Sedans',\n",
       " 'body_type_Station wagon',\n",
       " 'body_type_Transporter',\n",
       " 'body_type_Van',\n",
       " 'vat_Price negotiable',\n",
       " 'vat_VAT deductible',\n",
       " 'Type_Demonstration',\n",
       " \"Type_Employee's car\",\n",
       " 'Type_New',\n",
       " 'Type_Pre-registered',\n",
       " 'Type_Used',\n",
       " 'Gearing_Type_Automatic',\n",
       " 'Gearing_Type_Manual',\n",
       " 'Gearing_Type_Semi-automatic',\n",
       " 'Drive_Chain_4WD',\n",
       " 'Drive_Chain_front',\n",
       " 'Drive_Chain_rear',\n",
       " 'Fuel_Benzine',\n",
       " 'Fuel_Diesel',\n",
       " 'Fuel_Electric',\n",
       " 'Fuel_LPG/CNG',\n",
       " 'Upholstery_Type_Cloth',\n",
       " 'Upholstery_Type_Part/Full Leather',\n",
       " 'Upholstery_Color_Black',\n",
       " 'Upholstery_Color_Brown',\n",
       " 'Upholstery_Color_Grey',\n",
       " 'Upholstery_Color_Other']"
      ]
     },
     "execution_count": 5,
     "metadata": {},
     "output_type": "execute_result"
    }
   ],
   "source": [
    "list(df.columns)"
   ]
  },
  {
   "cell_type": "code",
   "execution_count": 6,
   "metadata": {},
   "outputs": [
    {
     "data": {
      "text/html": [
       "<div>\n",
       "<style scoped>\n",
       "    .dataframe tbody tr th:only-of-type {\n",
       "        vertical-align: middle;\n",
       "    }\n",
       "\n",
       "    .dataframe tbody tr th {\n",
       "        vertical-align: top;\n",
       "    }\n",
       "\n",
       "    .dataframe thead th {\n",
       "        text-align: right;\n",
       "    }\n",
       "</style>\n",
       "<table border=\"1\" class=\"dataframe\">\n",
       "  <thead>\n",
       "    <tr style=\"text-align: right;\">\n",
       "      <th></th>\n",
       "      <th>price</th>\n",
       "      <th>km</th>\n",
       "      <th>hp</th>\n",
       "      <th>Previous_Owners</th>\n",
       "      <th>Inspection_New</th>\n",
       "      <th>Nr_of_Doors</th>\n",
       "      <th>Nr_of_Seats</th>\n",
       "      <th>Displacement</th>\n",
       "      <th>Gears</th>\n",
       "      <th>Age</th>\n",
       "      <th>...</th>\n",
       "      <th>Fuel_Benzine</th>\n",
       "      <th>Fuel_Diesel</th>\n",
       "      <th>Fuel_Electric</th>\n",
       "      <th>Fuel_LPG/CNG</th>\n",
       "      <th>Upholstery_Type_Cloth</th>\n",
       "      <th>Upholstery_Type_Part/Full Leather</th>\n",
       "      <th>Upholstery_Color_Black</th>\n",
       "      <th>Upholstery_Color_Brown</th>\n",
       "      <th>Upholstery_Color_Grey</th>\n",
       "      <th>Upholstery_Color_Other</th>\n",
       "    </tr>\n",
       "  </thead>\n",
       "  <tbody>\n",
       "    <tr>\n",
       "      <th>price</th>\n",
       "      <td>1.000000</td>\n",
       "      <td>-0.399172</td>\n",
       "      <td>0.696769</td>\n",
       "      <td>-0.144119</td>\n",
       "      <td>0.008180</td>\n",
       "      <td>0.158964</td>\n",
       "      <td>0.247357</td>\n",
       "      <td>0.287929</td>\n",
       "      <td>0.503376</td>\n",
       "      <td>-0.471964</td>\n",
       "      <td>...</td>\n",
       "      <td>-0.018197</td>\n",
       "      <td>0.019079</td>\n",
       "      <td>0.026738</td>\n",
       "      <td>-0.014329</td>\n",
       "      <td>-0.386556</td>\n",
       "      <td>0.386556</td>\n",
       "      <td>-0.078691</td>\n",
       "      <td>0.290459</td>\n",
       "      <td>-0.104672</td>\n",
       "      <td>0.077080</td>\n",
       "    </tr>\n",
       "    <tr>\n",
       "      <th>km</th>\n",
       "      <td>-0.399172</td>\n",
       "      <td>1.000000</td>\n",
       "      <td>0.004020</td>\n",
       "      <td>0.156912</td>\n",
       "      <td>-0.049442</td>\n",
       "      <td>0.005794</td>\n",
       "      <td>-0.008603</td>\n",
       "      <td>0.301893</td>\n",
       "      <td>0.019192</td>\n",
       "      <td>0.756775</td>\n",
       "      <td>...</td>\n",
       "      <td>-0.433884</td>\n",
       "      <td>0.429047</td>\n",
       "      <td>-0.003162</td>\n",
       "      <td>0.041313</td>\n",
       "      <td>-0.034413</td>\n",
       "      <td>0.034413</td>\n",
       "      <td>-0.092097</td>\n",
       "      <td>0.003023</td>\n",
       "      <td>0.163643</td>\n",
       "      <td>-0.048997</td>\n",
       "    </tr>\n",
       "    <tr>\n",
       "      <th>hp</th>\n",
       "      <td>0.696769</td>\n",
       "      <td>0.004020</td>\n",
       "      <td>1.000000</td>\n",
       "      <td>-0.022171</td>\n",
       "      <td>0.036764</td>\n",
       "      <td>0.120870</td>\n",
       "      <td>0.288772</td>\n",
       "      <td>0.602953</td>\n",
       "      <td>0.493992</td>\n",
       "      <td>-0.083267</td>\n",
       "      <td>...</td>\n",
       "      <td>-0.108057</td>\n",
       "      <td>0.111678</td>\n",
       "      <td>0.012437</td>\n",
       "      <td>-0.031408</td>\n",
       "      <td>-0.469235</td>\n",
       "      <td>0.469235</td>\n",
       "      <td>-0.052675</td>\n",
       "      <td>0.247764</td>\n",
       "      <td>-0.086119</td>\n",
       "      <td>0.041485</td>\n",
       "    </tr>\n",
       "    <tr>\n",
       "      <th>Previous_Owners</th>\n",
       "      <td>-0.144119</td>\n",
       "      <td>0.156912</td>\n",
       "      <td>-0.022171</td>\n",
       "      <td>1.000000</td>\n",
       "      <td>0.019868</td>\n",
       "      <td>-0.133714</td>\n",
       "      <td>0.000165</td>\n",
       "      <td>0.028414</td>\n",
       "      <td>-0.050832</td>\n",
       "      <td>0.316297</td>\n",
       "      <td>...</td>\n",
       "      <td>-0.028501</td>\n",
       "      <td>0.031474</td>\n",
       "      <td>-0.002230</td>\n",
       "      <td>-0.022634</td>\n",
       "      <td>-0.009208</td>\n",
       "      <td>0.009208</td>\n",
       "      <td>0.014885</td>\n",
       "      <td>0.024302</td>\n",
       "      <td>0.022107</td>\n",
       "      <td>-0.058359</td>\n",
       "    </tr>\n",
       "    <tr>\n",
       "      <th>Inspection_New</th>\n",
       "      <td>0.008180</td>\n",
       "      <td>-0.049442</td>\n",
       "      <td>0.036764</td>\n",
       "      <td>0.019868</td>\n",
       "      <td>1.000000</td>\n",
       "      <td>-0.116865</td>\n",
       "      <td>-0.003130</td>\n",
       "      <td>-0.023764</td>\n",
       "      <td>-0.052563</td>\n",
       "      <td>-0.045085</td>\n",
       "      <td>...</td>\n",
       "      <td>0.132678</td>\n",
       "      <td>-0.127785</td>\n",
       "      <td>-0.010155</td>\n",
       "      <td>-0.036399</td>\n",
       "      <td>0.033319</td>\n",
       "      <td>-0.033319</td>\n",
       "      <td>0.076843</td>\n",
       "      <td>-0.030775</td>\n",
       "      <td>-0.104796</td>\n",
       "      <td>0.020692</td>\n",
       "    </tr>\n",
       "    <tr>\n",
       "      <th>...</th>\n",
       "      <td>...</td>\n",
       "      <td>...</td>\n",
       "      <td>...</td>\n",
       "      <td>...</td>\n",
       "      <td>...</td>\n",
       "      <td>...</td>\n",
       "      <td>...</td>\n",
       "      <td>...</td>\n",
       "      <td>...</td>\n",
       "      <td>...</td>\n",
       "      <td>...</td>\n",
       "      <td>...</td>\n",
       "      <td>...</td>\n",
       "      <td>...</td>\n",
       "      <td>...</td>\n",
       "      <td>...</td>\n",
       "      <td>...</td>\n",
       "      <td>...</td>\n",
       "      <td>...</td>\n",
       "      <td>...</td>\n",
       "      <td>...</td>\n",
       "    </tr>\n",
       "    <tr>\n",
       "      <th>Upholstery_Type_Part/Full Leather</th>\n",
       "      <td>0.386556</td>\n",
       "      <td>0.034413</td>\n",
       "      <td>0.469235</td>\n",
       "      <td>0.009208</td>\n",
       "      <td>-0.033319</td>\n",
       "      <td>0.071699</td>\n",
       "      <td>0.201437</td>\n",
       "      <td>0.343346</td>\n",
       "      <td>0.251896</td>\n",
       "      <td>0.012919</td>\n",
       "      <td>...</td>\n",
       "      <td>-0.184716</td>\n",
       "      <td>0.185728</td>\n",
       "      <td>0.015501</td>\n",
       "      <td>-0.011308</td>\n",
       "      <td>-1.000000</td>\n",
       "      <td>1.000000</td>\n",
       "      <td>-0.021242</td>\n",
       "      <td>0.227863</td>\n",
       "      <td>-0.050863</td>\n",
       "      <td>-0.032125</td>\n",
       "    </tr>\n",
       "    <tr>\n",
       "      <th>Upholstery_Color_Black</th>\n",
       "      <td>-0.078691</td>\n",
       "      <td>-0.092097</td>\n",
       "      <td>-0.052675</td>\n",
       "      <td>0.014885</td>\n",
       "      <td>0.076843</td>\n",
       "      <td>-0.102407</td>\n",
       "      <td>-0.085276</td>\n",
       "      <td>-0.065267</td>\n",
       "      <td>-0.066546</td>\n",
       "      <td>-0.032677</td>\n",
       "      <td>...</td>\n",
       "      <td>0.106700</td>\n",
       "      <td>-0.105494</td>\n",
       "      <td>0.002229</td>\n",
       "      <td>-0.010694</td>\n",
       "      <td>0.021242</td>\n",
       "      <td>-0.021242</td>\n",
       "      <td>1.000000</td>\n",
       "      <td>-0.276706</td>\n",
       "      <td>-0.652438</td>\n",
       "      <td>-0.577105</td>\n",
       "    </tr>\n",
       "    <tr>\n",
       "      <th>Upholstery_Color_Brown</th>\n",
       "      <td>0.290459</td>\n",
       "      <td>0.003023</td>\n",
       "      <td>0.247764</td>\n",
       "      <td>0.024302</td>\n",
       "      <td>-0.030775</td>\n",
       "      <td>0.055754</td>\n",
       "      <td>0.237971</td>\n",
       "      <td>0.150400</td>\n",
       "      <td>0.088106</td>\n",
       "      <td>0.004094</td>\n",
       "      <td>...</td>\n",
       "      <td>-0.074380</td>\n",
       "      <td>0.073439</td>\n",
       "      <td>-0.002868</td>\n",
       "      <td>0.008610</td>\n",
       "      <td>-0.227863</td>\n",
       "      <td>0.227863</td>\n",
       "      <td>-0.276706</td>\n",
       "      <td>1.000000</td>\n",
       "      <td>-0.061725</td>\n",
       "      <td>-0.054598</td>\n",
       "    </tr>\n",
       "    <tr>\n",
       "      <th>Upholstery_Color_Grey</th>\n",
       "      <td>-0.104672</td>\n",
       "      <td>0.163643</td>\n",
       "      <td>-0.086119</td>\n",
       "      <td>0.022107</td>\n",
       "      <td>-0.104796</td>\n",
       "      <td>0.024957</td>\n",
       "      <td>-0.009683</td>\n",
       "      <td>-0.017096</td>\n",
       "      <td>-0.038380</td>\n",
       "      <td>0.115682</td>\n",
       "      <td>...</td>\n",
       "      <td>-0.064335</td>\n",
       "      <td>0.062398</td>\n",
       "      <td>0.003883</td>\n",
       "      <td>0.014515</td>\n",
       "      <td>0.050863</td>\n",
       "      <td>-0.050863</td>\n",
       "      <td>-0.652438</td>\n",
       "      <td>-0.061725</td>\n",
       "      <td>1.000000</td>\n",
       "      <td>-0.128736</td>\n",
       "    </tr>\n",
       "    <tr>\n",
       "      <th>Upholstery_Color_Other</th>\n",
       "      <td>0.077080</td>\n",
       "      <td>-0.048997</td>\n",
       "      <td>0.041485</td>\n",
       "      <td>-0.058359</td>\n",
       "      <td>0.020692</td>\n",
       "      <td>0.090843</td>\n",
       "      <td>0.009448</td>\n",
       "      <td>0.034394</td>\n",
       "      <td>0.092051</td>\n",
       "      <td>-0.082298</td>\n",
       "      <td>...</td>\n",
       "      <td>-0.044036</td>\n",
       "      <td>0.044921</td>\n",
       "      <td>-0.005982</td>\n",
       "      <td>-0.005056</td>\n",
       "      <td>0.032125</td>\n",
       "      <td>-0.032125</td>\n",
       "      <td>-0.577105</td>\n",
       "      <td>-0.054598</td>\n",
       "      <td>-0.128736</td>\n",
       "      <td>1.000000</td>\n",
       "    </tr>\n",
       "  </tbody>\n",
       "</table>\n",
       "<p>145 rows × 145 columns</p>\n",
       "</div>"
      ],
      "text/plain": [
       "                                      price        km        hp  \\\n",
       "price                              1.000000 -0.399172  0.696769   \n",
       "km                                -0.399172  1.000000  0.004020   \n",
       "hp                                 0.696769  0.004020  1.000000   \n",
       "Previous_Owners                   -0.144119  0.156912 -0.022171   \n",
       "Inspection_New                     0.008180 -0.049442  0.036764   \n",
       "...                                     ...       ...       ...   \n",
       "Upholstery_Type_Part/Full Leather  0.386556  0.034413  0.469235   \n",
       "Upholstery_Color_Black            -0.078691 -0.092097 -0.052675   \n",
       "Upholstery_Color_Brown             0.290459  0.003023  0.247764   \n",
       "Upholstery_Color_Grey             -0.104672  0.163643 -0.086119   \n",
       "Upholstery_Color_Other             0.077080 -0.048997  0.041485   \n",
       "\n",
       "                                   Previous_Owners  Inspection_New  \\\n",
       "price                                    -0.144119        0.008180   \n",
       "km                                        0.156912       -0.049442   \n",
       "hp                                       -0.022171        0.036764   \n",
       "Previous_Owners                           1.000000        0.019868   \n",
       "Inspection_New                            0.019868        1.000000   \n",
       "...                                            ...             ...   \n",
       "Upholstery_Type_Part/Full Leather         0.009208       -0.033319   \n",
       "Upholstery_Color_Black                    0.014885        0.076843   \n",
       "Upholstery_Color_Brown                    0.024302       -0.030775   \n",
       "Upholstery_Color_Grey                     0.022107       -0.104796   \n",
       "Upholstery_Color_Other                   -0.058359        0.020692   \n",
       "\n",
       "                                   Nr_of_Doors  Nr_of_Seats  Displacement  \\\n",
       "price                                 0.158964     0.247357      0.287929   \n",
       "km                                    0.005794    -0.008603      0.301893   \n",
       "hp                                    0.120870     0.288772      0.602953   \n",
       "Previous_Owners                      -0.133714     0.000165      0.028414   \n",
       "Inspection_New                       -0.116865    -0.003130     -0.023764   \n",
       "...                                        ...          ...           ...   \n",
       "Upholstery_Type_Part/Full Leather     0.071699     0.201437      0.343346   \n",
       "Upholstery_Color_Black               -0.102407    -0.085276     -0.065267   \n",
       "Upholstery_Color_Brown                0.055754     0.237971      0.150400   \n",
       "Upholstery_Color_Grey                 0.024957    -0.009683     -0.017096   \n",
       "Upholstery_Color_Other                0.090843     0.009448      0.034394   \n",
       "\n",
       "                                      Gears       Age  ...  Fuel_Benzine  \\\n",
       "price                              0.503376 -0.471964  ...     -0.018197   \n",
       "km                                 0.019192  0.756775  ...     -0.433884   \n",
       "hp                                 0.493992 -0.083267  ...     -0.108057   \n",
       "Previous_Owners                   -0.050832  0.316297  ...     -0.028501   \n",
       "Inspection_New                    -0.052563 -0.045085  ...      0.132678   \n",
       "...                                     ...       ...  ...           ...   \n",
       "Upholstery_Type_Part/Full Leather  0.251896  0.012919  ...     -0.184716   \n",
       "Upholstery_Color_Black            -0.066546 -0.032677  ...      0.106700   \n",
       "Upholstery_Color_Brown             0.088106  0.004094  ...     -0.074380   \n",
       "Upholstery_Color_Grey             -0.038380  0.115682  ...     -0.064335   \n",
       "Upholstery_Color_Other             0.092051 -0.082298  ...     -0.044036   \n",
       "\n",
       "                                   Fuel_Diesel  Fuel_Electric  Fuel_LPG/CNG  \\\n",
       "price                                 0.019079       0.026738     -0.014329   \n",
       "km                                    0.429047      -0.003162      0.041313   \n",
       "hp                                    0.111678       0.012437     -0.031408   \n",
       "Previous_Owners                       0.031474      -0.002230     -0.022634   \n",
       "Inspection_New                       -0.127785      -0.010155     -0.036399   \n",
       "...                                        ...            ...           ...   \n",
       "Upholstery_Type_Part/Full Leather     0.185728       0.015501     -0.011308   \n",
       "Upholstery_Color_Black               -0.105494       0.002229     -0.010694   \n",
       "Upholstery_Color_Brown                0.073439      -0.002868      0.008610   \n",
       "Upholstery_Color_Grey                 0.062398       0.003883      0.014515   \n",
       "Upholstery_Color_Other                0.044921      -0.005982     -0.005056   \n",
       "\n",
       "                                   Upholstery_Type_Cloth  \\\n",
       "price                                          -0.386556   \n",
       "km                                             -0.034413   \n",
       "hp                                             -0.469235   \n",
       "Previous_Owners                                -0.009208   \n",
       "Inspection_New                                  0.033319   \n",
       "...                                                  ...   \n",
       "Upholstery_Type_Part/Full Leather              -1.000000   \n",
       "Upholstery_Color_Black                          0.021242   \n",
       "Upholstery_Color_Brown                         -0.227863   \n",
       "Upholstery_Color_Grey                           0.050863   \n",
       "Upholstery_Color_Other                          0.032125   \n",
       "\n",
       "                                   Upholstery_Type_Part/Full Leather  \\\n",
       "price                                                       0.386556   \n",
       "km                                                          0.034413   \n",
       "hp                                                          0.469235   \n",
       "Previous_Owners                                             0.009208   \n",
       "Inspection_New                                             -0.033319   \n",
       "...                                                              ...   \n",
       "Upholstery_Type_Part/Full Leather                           1.000000   \n",
       "Upholstery_Color_Black                                     -0.021242   \n",
       "Upholstery_Color_Brown                                      0.227863   \n",
       "Upholstery_Color_Grey                                      -0.050863   \n",
       "Upholstery_Color_Other                                     -0.032125   \n",
       "\n",
       "                                   Upholstery_Color_Black  \\\n",
       "price                                           -0.078691   \n",
       "km                                              -0.092097   \n",
       "hp                                              -0.052675   \n",
       "Previous_Owners                                  0.014885   \n",
       "Inspection_New                                   0.076843   \n",
       "...                                                   ...   \n",
       "Upholstery_Type_Part/Full Leather               -0.021242   \n",
       "Upholstery_Color_Black                           1.000000   \n",
       "Upholstery_Color_Brown                          -0.276706   \n",
       "Upholstery_Color_Grey                           -0.652438   \n",
       "Upholstery_Color_Other                          -0.577105   \n",
       "\n",
       "                                   Upholstery_Color_Brown  \\\n",
       "price                                            0.290459   \n",
       "km                                               0.003023   \n",
       "hp                                               0.247764   \n",
       "Previous_Owners                                  0.024302   \n",
       "Inspection_New                                  -0.030775   \n",
       "...                                                   ...   \n",
       "Upholstery_Type_Part/Full Leather                0.227863   \n",
       "Upholstery_Color_Black                          -0.276706   \n",
       "Upholstery_Color_Brown                           1.000000   \n",
       "Upholstery_Color_Grey                           -0.061725   \n",
       "Upholstery_Color_Other                          -0.054598   \n",
       "\n",
       "                                   Upholstery_Color_Grey  \\\n",
       "price                                          -0.104672   \n",
       "km                                              0.163643   \n",
       "hp                                             -0.086119   \n",
       "Previous_Owners                                 0.022107   \n",
       "Inspection_New                                 -0.104796   \n",
       "...                                                  ...   \n",
       "Upholstery_Type_Part/Full Leather              -0.050863   \n",
       "Upholstery_Color_Black                         -0.652438   \n",
       "Upholstery_Color_Brown                         -0.061725   \n",
       "Upholstery_Color_Grey                           1.000000   \n",
       "Upholstery_Color_Other                         -0.128736   \n",
       "\n",
       "                                   Upholstery_Color_Other  \n",
       "price                                            0.077080  \n",
       "km                                              -0.048997  \n",
       "hp                                               0.041485  \n",
       "Previous_Owners                                 -0.058359  \n",
       "Inspection_New                                   0.020692  \n",
       "...                                                   ...  \n",
       "Upholstery_Type_Part/Full Leather               -0.032125  \n",
       "Upholstery_Color_Black                          -0.577105  \n",
       "Upholstery_Color_Brown                          -0.054598  \n",
       "Upholstery_Color_Grey                           -0.128736  \n",
       "Upholstery_Color_Other                           1.000000  \n",
       "\n",
       "[145 rows x 145 columns]"
      ]
     },
     "execution_count": 6,
     "metadata": {},
     "output_type": "execute_result"
    }
   ],
   "source": [
    "df.corr()"
   ]
  },
  {
   "cell_type": "code",
   "execution_count": 7,
   "metadata": {},
   "outputs": [
    {
     "data": {
      "text/plain": [
       "0    15770\n",
       "1    14500\n",
       "2    14640\n",
       "3    14500\n",
       "4    16790\n",
       "Name: price, dtype: int64"
      ]
     },
     "execution_count": 7,
     "metadata": {},
     "output_type": "execute_result"
    }
   ],
   "source": [
    "df.price.head()"
   ]
  },
  {
   "cell_type": "code",
   "execution_count": 8,
   "metadata": {},
   "outputs": [
    {
     "data": {
      "text/plain": [
       "Age                         -0.471964\n",
       "Gearing_Type_Manual         -0.431675\n",
       "km                          -0.399172\n",
       "Upholstery_Type_Cloth       -0.386556\n",
       "make_model_Opel Corsa       -0.379373\n",
       "                               ...   \n",
       "make_model_Renault Espace    0.420872\n",
       "ss_LED Headlights            0.436199\n",
       "Gears                        0.503376\n",
       "hp                           0.696769\n",
       "price                        1.000000\n",
       "Name: price, Length: 145, dtype: float64"
      ]
     },
     "execution_count": 8,
     "metadata": {},
     "output_type": "execute_result"
    }
   ],
   "source": [
    "# price ile en fazla correlasyonu olan featurelari getirir\n",
    "df.corr()[\"price\"].sort_values()"
   ]
  },
  {
   "cell_type": "code",
   "execution_count": 9,
   "metadata": {},
   "outputs": [
    {
     "data": {
      "image/png": "[encoded data removed]",
      "text/plain": [
       "<Figure size 432x288 with 1 Axes>"
      ]
     },
     "metadata": {
      "needs_background": "light"
     },
     "output_type": "display_data"
    }
   ],
   "source": [
    "df.corr()[\"price\"].sort_values().head(10).plot.barh();"
   ]
  },
  {
   "cell_type": "code",
   "execution_count": 10,
   "metadata": {},
   "outputs": [
    {
     "data": {
      "image/png": "[encoded data removed]",
      "text/plain": [
       "<Figure size 432x288 with 1 Axes>"
      ]
     },
     "metadata": {
      "needs_background": "light"
     },
     "output_type": "display_data"
    }
   ],
   "source": [
    "df.corr()[\"price\"].sort_values().tail(10).plot.barh();"
   ]
  },
  {
   "cell_type": "code",
   "execution_count": 11,
   "metadata": {},
   "outputs": [
    {
     "data": {
      "image/png": "[encoded data removed]",
      "text/plain": [
       "<Figure size 432x288 with 1 Axes>"
      ]
     },
     "metadata": {
      "needs_background": "light"
     },
     "output_type": "display_data"
    }
   ],
   "source": [
    "sns.distplot(df.price);"
   ]
  },
  {
   "cell_type": "code",
   "execution_count": 12,
   "metadata": {},
   "outputs": [
    {
     "data": {
      "image/png": "[encoded data removed]",
      "text/plain": [
       "<Figure size 432x288 with 1 Axes>"
      ]
     },
     "metadata": {
      "needs_background": "light"
     },
     "output_type": "display_data"
    }
   ],
   "source": [
    "sns.boxplot(data=df.price, orient=\"v\");"
   ]
  },
  {
   "cell_type": "code",
   "execution_count": 13,
   "metadata": {},
   "outputs": [],
   "source": [
    "X=df.drop([\"price\"], axis=1)\n",
    "y=df[\"price\"]"
   ]
  },
  {
   "cell_type": "code",
   "execution_count": 14,
   "metadata": {},
   "outputs": [],
   "source": [
    "from sklearn.model_selection import train_test_split\n",
    "X_train, X_test, y_train, y_test = train_test_split(X, y, test_size = 0.2, random_state = 42)"
   ]
  },
  {
   "cell_type": "code",
   "execution_count": 15,
   "metadata": {},
   "outputs": [
    {
     "data": {
      "text/plain": [
       "(15915, 144)"
      ]
     },
     "execution_count": 15,
     "metadata": {},
     "output_type": "execute_result"
    }
   ],
   "source": [
    "X.shape"
   ]
  },
  {
   "cell_type": "code",
   "execution_count": 16,
   "metadata": {},
   "outputs": [
    {
     "data": {
      "text/plain": [
       "(12732, 144)"
      ]
     },
     "execution_count": 16,
     "metadata": {},
     "output_type": "execute_result"
    }
   ],
   "source": [
    "X_train.shape"
   ]
  },
  {
   "cell_type": "code",
   "execution_count": 17,
   "metadata": {},
   "outputs": [],
   "source": [
    "'''\n",
    "Feature sayisi sistikce, arttikca sentetik sekilde R2_score artmaya meyillidir. \n",
    "R2_score, icinde fazla feature i cezalandiran yontem yoktur. \n",
    "‘overfitting’ durumunda yüksek R-kare değerlerine ulaşabilirsiniz.\n",
    "R2_score fikir verir ama burada en onemli metrik RMSE dir.\n",
    "\n",
    "R2_score, dusukse model basarisizdir, yuksekse baska metriklere bakip model degerlendirmesi yapilir.\n",
    "\n",
    "'''\n",
    "\n",
    "\n",
    "def eval_metrics(actual, pred):\n",
    "    rmse = np.sqrt(mean_squared_error(actual, pred))\n",
    "    mae = mean_absolute_error(actual, pred)\n",
    "    mse = mean_squared_error(actual, pred)\n",
    "    score = r2_score(actual, pred)\n",
    "    return print(f'R2_Score:{score}', # y deki degisimin X lerle ne kadar anlatilabildini ifade eder. bagimli degiskeni olcme gucudur.\n",
    "                 f'MAE:{mae}', # y tahminlerinde yapilan ortalama hata degeri.\n",
    "                 f'MSE:{mse}', # RMSE nin karesidir.\n",
    "                 f'RMSE:{rmse}', sep='\\n') # y tahminlerinde yapilan ortalama hata degerini verirken outlier lari daha fazla cezalandiran bir deger verir.\n",
    "\n"
   ]
  },
  {
   "cell_type": "markdown",
   "metadata": {},
   "source": [
    "## 1-Linear Regression"
   ]
  },
  {
   "cell_type": "code",
   "execution_count": 18,
   "metadata": {},
   "outputs": [
    {
     "data": {
      "text/plain": [
       "LinearRegression()"
      ]
     },
     "execution_count": 18,
     "metadata": {},
     "output_type": "execute_result"
    }
   ],
   "source": [
    "from sklearn.linear_model import LinearRegression\n",
    "lm = LinearRegression()\n",
    "lm.fit(X_train,y_train)"
   ]
  },
  {
   "cell_type": "code",
   "execution_count": 19,
   "metadata": {},
   "outputs": [],
   "source": [
    "y_pred=lm.predict(X_test)"
   ]
  },
  {
   "cell_type": "code",
   "execution_count": 20,
   "metadata": {},
   "outputs": [
    {
     "ename": "NameError",
     "evalue": "name 'mean_absolute_error' is not defined",
     "output_type": "error",
     "traceback": [
      "\u001b[1;31m---------------------------------------------------------------------------\u001b[0m",
      "\u001b[1;31mNameError\u001b[0m                                 Traceback (most recent call last)",
      "\u001b[1;32m<ipython-input-20-fc83d3ece9ae>\u001b[0m in \u001b[0;36m<module>\u001b[1;34m\u001b[0m\n\u001b[1;32m----> 1\u001b[1;33m \u001b[0meval_metrics\u001b[0m\u001b[1;33m(\u001b[0m\u001b[0my_test\u001b[0m\u001b[1;33m,\u001b[0m \u001b[0my_pred\u001b[0m\u001b[1;33m)\u001b[0m\u001b[1;33m\u001b[0m\u001b[1;33m\u001b[0m\u001b[0m\n\u001b[0m",
      "\u001b[1;32m<ipython-input-17-ff1c57cdd06d>\u001b[0m in \u001b[0;36meval_metrics\u001b[1;34m(actual, pred)\u001b[0m\n\u001b[0;32m     12\u001b[0m \u001b[1;32mdef\u001b[0m \u001b[0meval_metrics\u001b[0m\u001b[1;33m(\u001b[0m\u001b[0mactual\u001b[0m\u001b[1;33m,\u001b[0m \u001b[0mpred\u001b[0m\u001b[1;33m)\u001b[0m\u001b[1;33m:\u001b[0m\u001b[1;33m\u001b[0m\u001b[1;33m\u001b[0m\u001b[0m\n\u001b[0;32m     13\u001b[0m     \u001b[0mrmse\u001b[0m \u001b[1;33m=\u001b[0m \u001b[0mnp\u001b[0m\u001b[1;33m.\u001b[0m\u001b[0msqrt\u001b[0m\u001b[1;33m(\u001b[0m\u001b[0mmean_squared_error\u001b[0m\u001b[1;33m(\u001b[0m\u001b[0mactual\u001b[0m\u001b[1;33m,\u001b[0m \u001b[0mpred\u001b[0m\u001b[1;33m)\u001b[0m\u001b[1;33m)\u001b[0m\u001b[1;33m\u001b[0m\u001b[1;33m\u001b[0m\u001b[0m\n\u001b[1;32m---> 14\u001b[1;33m     \u001b[0mmae\u001b[0m \u001b[1;33m=\u001b[0m \u001b[0mmean_absolute_error\u001b[0m\u001b[1;33m(\u001b[0m\u001b[0mactual\u001b[0m\u001b[1;33m,\u001b[0m \u001b[0mpred\u001b[0m\u001b[1;33m)\u001b[0m\u001b[1;33m\u001b[0m\u001b[1;33m\u001b[0m\u001b[0m\n\u001b[0m\u001b[0;32m     15\u001b[0m     \u001b[0mmse\u001b[0m \u001b[1;33m=\u001b[0m \u001b[0mmean_squared_error\u001b[0m\u001b[1;33m(\u001b[0m\u001b[0mactual\u001b[0m\u001b[1;33m,\u001b[0m \u001b[0mpred\u001b[0m\u001b[1;33m)\u001b[0m\u001b[1;33m\u001b[0m\u001b[1;33m\u001b[0m\u001b[0m\n\u001b[0;32m     16\u001b[0m     \u001b[0mscore\u001b[0m \u001b[1;33m=\u001b[0m \u001b[0mr2_score\u001b[0m\u001b[1;33m(\u001b[0m\u001b[0mactual\u001b[0m\u001b[1;33m,\u001b[0m \u001b[0mpred\u001b[0m\u001b[1;33m)\u001b[0m\u001b[1;33m\u001b[0m\u001b[1;33m\u001b[0m\u001b[0m\n",
      "\u001b[1;31mNameError\u001b[0m: name 'mean_absolute_error' is not defined"
     ]
    }
   ],
   "source": [
    "eval_metrics(y_test, y_pred)"
   ]
  },
  {
   "cell_type": "code",
   "execution_count": null,
   "metadata": {},
   "outputs": [],
   "source": [
    "plt.scatter(y_test, y_pred);"
   ]
  },
  {
   "cell_type": "code",
   "execution_count": null,
   "metadata": {},
   "outputs": [],
   "source": [
    "from yellowbrick.regressor import PredictionError\n",
    "visualizer = PredictionError(lm)\n",
    "visualizer.fit(X_train, y_train)  # Fit the training data to the visualizer\n",
    "visualizer.score(X_test, y_test)  # Evaluate the model on the test data\n",
    "visualizer.show();                 # Finalize and render the figure"
   ]
  },
  {
   "cell_type": "code",
   "execution_count": null,
   "metadata": {},
   "outputs": [],
   "source": [
    "from yellowbrick.regressor import ResidualsPlot\n",
    "visualizer = ResidualsPlot(lm)\n",
    "\n",
    "visualizer.fit(X_train, y_train)  # Fit the training data to the visualizer\n",
    "visualizer.score(X_test, y_test)  # Evaluate the model on the test data\n",
    "visualizer.show();                 # Finalize and render the figure"
   ]
  },
  {
   "cell_type": "code",
   "execution_count": null,
   "metadata": {},
   "outputs": [],
   "source": [
    "my_dict = { 'Actual': y_test, 'Pred': y_pred }\n",
    "compare = pd.DataFrame(my_dict)"
   ]
  },
  {
   "cell_type": "code",
   "execution_count": null,
   "metadata": {
    "scrolled": false
   },
   "outputs": [],
   "source": [
    "compare.sample(10)"
   ]
  },
  {
   "cell_type": "code",
   "execution_count": null,
   "metadata": {},
   "outputs": [],
   "source": [
    "from sklearn.model_selection import cross_val_score\n",
    "cv_scores = cross_val_score(estimator=lm, X=X_train, y=y_train)\n",
    "# default cv=5\n",
    "cv_scores.mean()"
   ]
  },
  {
   "cell_type": "code",
   "execution_count": null,
   "metadata": {},
   "outputs": [],
   "source": [
    "cv_scores"
   ]
  },
  {
   "cell_type": "markdown",
   "metadata": {},
   "source": [
    "## **2.Ridge Regression**"
   ]
  },
  {
   "cell_type": "code",
   "execution_count": null,
   "metadata": {},
   "outputs": [],
   "source": [
    "from sklearn.linear_model import Ridge\n",
    "from sklearn.linear_model import RidgeCV"
   ]
  },
  {
   "cell_type": "code",
   "execution_count": null,
   "metadata": {},
   "outputs": [],
   "source": [
    "ridge_model=Ridge(normalize=True)"
   ]
  },
  {
   "cell_type": "code",
   "execution_count": null,
   "metadata": {},
   "outputs": [],
   "source": [
    "ridge_model.fit(X_train, y_train)"
   ]
  },
  {
   "cell_type": "code",
   "execution_count": null,
   "metadata": {},
   "outputs": [],
   "source": [
    "y_pred=ridge_model.predict(X_test)"
   ]
  },
  {
   "cell_type": "code",
   "execution_count": null,
   "metadata": {},
   "outputs": [],
   "source": [
    "eval_metrics(y_test, y_pred)"
   ]
  },
  {
   "cell_type": "code",
   "execution_count": null,
   "metadata": {},
   "outputs": [],
   "source": [
    "alpha_space = np.linspace(0.01, 5, 50)"
   ]
  },
  {
   "cell_type": "code",
   "execution_count": null,
   "metadata": {},
   "outputs": [],
   "source": [
    "from yellowbrick.regressor import ManualAlphaSelection\n",
    "\n",
    "# Create a list of alphas to cross-validate against\n",
    "alpha_space = alpha_space \n",
    "\n",
    "# Instantiate the visualizer\n",
    "visualizer = ManualAlphaSelection(\n",
    "    Ridge(normalize=True),\n",
    "    alphas=alpha_space,\n",
    "    cv=5\n",
    ")\n",
    "\n",
    "visualizer.fit(X_train, y_train)\n",
    "visualizer.show();"
   ]
  },
  {
   "cell_type": "code",
   "execution_count": null,
   "metadata": {},
   "outputs": [],
   "source": [
    "ridge_model = Ridge(0.001, normalize=True).fit(X_train, y_train)\n",
    "y_pred = ridge_model.predict(X_test)\n",
    "eval_metrics(y_test, y_pred)"
   ]
  },
  {
   "cell_type": "markdown",
   "metadata": {},
   "source": [
    "## **3.Lasso regression**"
   ]
  },
  {
   "cell_type": "code",
   "execution_count": null,
   "metadata": {},
   "outputs": [],
   "source": [
    "from sklearn.linear_model import Lasso, LassoCV"
   ]
  },
  {
   "cell_type": "code",
   "execution_count": null,
   "metadata": {},
   "outputs": [],
   "source": [
    "lasso_model = Lasso(normalize=True)\n",
    "lasso_model.fit(X_train, y_train)\n",
    "y_pred = lasso_model.predict(X_test)\n",
    "eval_metrics(y_test, y_pred)"
   ]
  },
  {
   "cell_type": "code",
   "execution_count": null,
   "metadata": {},
   "outputs": [],
   "source": [
    "# MAE, MSE, RMSE nin scalini price scaleinda dusunulmeli"
   ]
  },
  {
   "cell_type": "code",
   "execution_count": null,
   "metadata": {},
   "outputs": [],
   "source": [
    "alpha_space = np.linspace(0.1, 20, 50)\n",
    "lasso_cv_model = LassoCV(alphas = alpha_space, normalize=True, cv = 5).fit(X_train, y_train)\n",
    "# normalize=True deyince ayrica scaling yapmaya gerek yok"
   ]
  },
  {
   "cell_type": "code",
   "execution_count": null,
   "metadata": {},
   "outputs": [],
   "source": [
    "# ridge yavas, lasso hizli calisir"
   ]
  },
  {
   "cell_type": "code",
   "execution_count": null,
   "metadata": {},
   "outputs": [],
   "source": [
    "lasso_cv_model.alpha_"
   ]
  },
  {
   "cell_type": "code",
   "execution_count": null,
   "metadata": {},
   "outputs": [],
   "source": [
    "from sklearn.linear_model import LassoCV\n",
    "from yellowbrick.regressor import AlphaSelection\n",
    "# Create a list of alphas to cross-validate against\n",
    "alpha_space = np.linspace(0.1, 20, 100)\n",
    "# Instantiate the linear model and visualizer\n",
    "model = LassoCV(alphas=alpha_space, normalize=True)\n",
    "visualizer = AlphaSelection(model)\n",
    "visualizer.fit(X_train, y_train)\n",
    "visualizer.show()"
   ]
  },
  {
   "cell_type": "code",
   "execution_count": null,
   "metadata": {},
   "outputs": [],
   "source": [
    "lasso_model = Lasso(0.01, normalize=True).fit(X_train, y_train)\n",
    "y_pred = lasso_model.predict(X_test)\n",
    "eval_metrics(y_test, y_pred)"
   ]
  },
  {
   "cell_type": "code",
   "execution_count": null,
   "metadata": {},
   "outputs": [],
   "source": [
    "# Cross validation i sonra yap..."
   ]
  },
  {
   "cell_type": "code",
   "execution_count": null,
   "metadata": {},
   "outputs": [],
   "source": [
    "# Create features DataFrame\n",
    "feature_coef = pd.DataFrame({'features' : X.columns, 'coef' : lasso_model.coef_})\n",
    "significant_features = feature_coef.loc[feature_coef.coef != 0, :]\n",
    "len(significant_features)"
   ]
  },
  {
   "cell_type": "code",
   "execution_count": null,
   "metadata": {},
   "outputs": [],
   "source": [
    "# alpha yi manuel buyutursek feature sayisini dusurur ama R2 score dan feragat etmemiz gerekir\n",
    "lasso_model = Lasso(10, normalize=True).fit(X_train, y_train)\n",
    "y_pred = lasso_model.predict(X_test)\n",
    "eval_metrics(y_test, y_pred)"
   ]
  },
  {
   "cell_type": "code",
   "execution_count": null,
   "metadata": {},
   "outputs": [],
   "source": [
    "# Create features DataFrame\n",
    "feature_coef = pd.DataFrame({'features' : X.columns, 'coef' : lasso_model.coef_})\n",
    "significant_features = feature_coef.loc[feature_coef.coef != 0, :]\n",
    "len(significant_features)"
   ]
  },
  {
   "cell_type": "code",
   "execution_count": null,
   "metadata": {},
   "outputs": [],
   "source": [
    "significant_features = feature_coef.loc[feature_coef.coef != 0, :]\n",
    "significant_features.sort_values(by=\"coef\", ascending=False)"
   ]
  },
  {
   "cell_type": "code",
   "execution_count": null,
   "metadata": {},
   "outputs": [],
   "source": [
    "from yellowbrick.features import RadViz\n",
    "from yellowbrick.model_selection import FeatureImportances\n",
    "# Load the regression dataset\n",
    "# Title case the feature for better display and create the visualizer\n",
    "labels = list(map(lambda s: s.title(), X.columns))\n",
    "viz = FeatureImportances(lasso_model, labels=labels, relative=False)\n",
    "visualizer = RadViz(size=(500, 3600))\n",
    "# Fit and show the feature importances\n",
    "viz.fit(X_train, y_train)\n",
    "viz.show()"
   ]
  },
  {
   "cell_type": "code",
   "execution_count": null,
   "metadata": {},
   "outputs": [],
   "source": [
    "df.columns"
   ]
  },
  {
   "cell_type": "markdown",
   "metadata": {},
   "source": [
    "### **Saving Sckit-Learn Model**"
   ]
  },
  {
   "cell_type": "code",
   "execution_count": null,
   "metadata": {},
   "outputs": [],
   "source": [
    "df2=pd.read_csv('final_scout_not_dummy_20201204.csv')\n",
    "df2.head()"
   ]
  },
  {
   "cell_type": "code",
   "execution_count": null,
   "metadata": {},
   "outputs": [],
   "source": [
    "# tum model sonuclarina bakarak future importance a ve domain bilgisiyle belirledigimiz features lar:\n",
    "new_list=['hp','Age','km','make_model']"
   ]
  },
  {
   "cell_type": "code",
   "execution_count": null,
   "metadata": {},
   "outputs": [],
   "source": [
    "df2.shape"
   ]
  },
  {
   "cell_type": "code",
   "execution_count": null,
   "metadata": {},
   "outputs": [],
   "source": [
    "X=df2[new_list]\n",
    "X.head()"
   ]
  },
  {
   "cell_type": "code",
   "execution_count": null,
   "metadata": {},
   "outputs": [],
   "source": [
    "y=df2.price\n",
    "y.head()"
   ]
  },
  {
   "cell_type": "code",
   "execution_count": null,
   "metadata": {},
   "outputs": [],
   "source": [
    "X=pd.get_dummies(X)\n",
    "X.head()"
   ]
  },
  {
   "cell_type": "code",
   "execution_count": null,
   "metadata": {},
   "outputs": [],
   "source": [
    "from sklearn.model_selection import train_test_split\n",
    "X_train, X_test, y_train, y_test = train_test_split(X, y, test_size = 0.2, random_state = 101)\n",
    "from sklearn.linear_model import LinearRegression\n",
    "lm = LinearRegression()\n",
    "lm.fit(X_train,y_train)\n",
    "y_pred=lm.predict(X_test)\n",
    "eval_metrics(y_test, y_pred)"
   ]
  },
  {
   "cell_type": "code",
   "execution_count": null,
   "metadata": {},
   "outputs": [],
   "source": [
    "# pickle ile modelimizi export yapip kaydettik\n",
    "\n",
    "import pickle\n",
    "# pickle.dump(model, open(filename, 'wb'))\n",
    "pickle.dump(lm, open('saved_model', 'wb'))"
   ]
  },
  {
   "cell_type": "code",
   "execution_count": null,
   "metadata": {},
   "outputs": [],
   "source": [
    "# kaydedilmis modeli import yaptik\n",
    "\n",
    "FF_model=pickle.load(open('saved_model','rb'))"
   ]
  },
  {
   "cell_type": "code",
   "execution_count": null,
   "metadata": {},
   "outputs": [],
   "source": [
    "my_dict = {\n",
    "    \"hp_kW\": 200,\n",
    "    \"age\": 1,\n",
    "    \"km\": 100000,\n",
    "    \"make_model\": 'Audi A3'\n",
    "}\n",
    "# buradan degerleri degistirip altta modelde kullanacagiz"
   ]
  },
  {
   "cell_type": "code",
   "execution_count": null,
   "metadata": {},
   "outputs": [],
   "source": [
    "df=pd.DataFrame.from_dict([my_dict])\n",
    "df.head()"
   ]
  },
  {
   "cell_type": "code",
   "execution_count": null,
   "metadata": {},
   "outputs": [],
   "source": [
    "# modelde dummy variables vardi, my_dict ten gelen df i get dummy yapmmaliyiz"
   ]
  },
  {
   "cell_type": "code",
   "execution_count": null,
   "metadata": {},
   "outputs": [],
   "source": [
    "columns=X.columns\n",
    "columns"
   ]
  },
  {
   "cell_type": "code",
   "execution_count": null,
   "metadata": {},
   "outputs": [],
   "source": [
    "df = pd.get_dummies(df).reindex(columns=columns, fill_value=0)\n",
    "df"
   ]
  },
  {
   "cell_type": "code",
   "execution_count": null,
   "metadata": {},
   "outputs": [],
   "source": [
    "pred=list(FF_model.predict(df))\n",
    "pred"
   ]
  },
  {
   "cell_type": "markdown",
   "metadata": {},
   "source": [
    "## Random Forest"
   ]
  },
  {
   "cell_type": "code",
   "execution_count": null,
   "metadata": {},
   "outputs": [],
   "source": [
    "rf_model=RandomForestClassifier()\n",
    "rf_model.fit(X_train, y_train)\n",
    "y_pred = rf_model.predict(X_test)\n",
    "print('Confusion Matrix:',*confusion_matrix(y_test,y_pred), sep=\"\\n\")\n",
    "print(classification_report(y_test, y_pred))"
   ]
  },
  {
   "cell_type": "code",
   "execution_count": null,
   "metadata": {},
   "outputs": [],
   "source": []
  }
 ],
 "metadata": {
  "kernelspec": {
   "display_name": "Python 3",
   "language": "python",
   "name": "python3"
  },
  "language_info": {
   "codemirror_mode": {
    "name": "ipython",
    "version": 3
   },
   "file_extension": ".py",
   "mimetype": "text/x-python",
   "name": "python",
   "nbconvert_exporter": "python",
   "pygments_lexer": "ipython3",
   "version": "3.8.5"
  }
 },
 "nbformat": 4,
 "nbformat_minor": 4
}
