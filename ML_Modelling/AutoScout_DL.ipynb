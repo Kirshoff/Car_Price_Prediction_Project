{
 "cells": [
  {
   "cell_type": "markdown",
   "metadata": {},
   "source": [
    "# Training Model with Deep Learning"
   ]
  },
  {
   "cell_type": "code",
   "execution_count": 118,
   "metadata": {},
   "outputs": [],
   "source": [
    "import pandas as pd\n",
    "import numpy as np\n",
    "import matplotlib.pyplot as plt\n",
    "import seaborn as sns\n",
    "\n",
    "from sklearn.metrics import mean_squared_error,mean_absolute_error,r2_score, explained_variance_score\n",
    "from sklearn.model_selection import train_test_split\n",
    "from sklearn.preprocessing import MinMaxScaler, RobustScaler\n",
    "\n",
    "import tensorflow as tf\n",
    "from tensorflow.keras.models import Sequential\n",
    "from tensorflow.keras.layers import Dense, Activation\n",
    "from tensorflow.keras.models import load_model\n",
    "from tensorflow.keras.optimizers import Adam\n",
    "from tensorflow.keras.callbacks import EarlyStopping\n",
    "\n",
    "import warnings\n",
    "warnings.filterwarnings('ignore')"
   ]
  },
  {
   "cell_type": "code",
   "execution_count": 20,
   "metadata": {},
   "outputs": [],
   "source": [
    "import pandas as pd      \n",
    "import numpy as np \n",
    "import matplotlib.pyplot as plt\n",
    "import seaborn as sns\n",
    "from sklearn.preprocessing import StandardScaler\n",
    "from sklearn.metrics import mean_absolute_error\n",
    "from sklearn.metrics import mean_squared_error, mean_absolute_error, r2_score\n",
    "from sklearn.model_selection import train_test_split\n",
    "import warnings\n",
    "warnings.filterwarnings('ignore')"
   ]
  },
  {
   "cell_type": "code",
   "execution_count": 21,
   "metadata": {},
   "outputs": [],
   "source": [
    "# Google Calab\n",
    "\n",
    "# from google.colab import drive\n",
    "# drive.mount('/content/drive')\n",
    "\n",
    "# df = pd.read_csv('/content/drive/MyDrive/tensorflow/DATA/kc_house_data.csv')"
   ]
  },
  {
   "cell_type": "code",
   "execution_count": 22,
   "metadata": {},
   "outputs": [
    {
     "data": {
      "text/html": [
       "<div>\n",
       "<style scoped>\n",
       "    .dataframe tbody tr th:only-of-type {\n",
       "        vertical-align: middle;\n",
       "    }\n",
       "\n",
       "    .dataframe tbody tr th {\n",
       "        vertical-align: top;\n",
       "    }\n",
       "\n",
       "    .dataframe thead th {\n",
       "        text-align: right;\n",
       "    }\n",
       "</style>\n",
       "<table border=\"1\" class=\"dataframe\">\n",
       "  <thead>\n",
       "    <tr style=\"text-align: right;\">\n",
       "      <th></th>\n",
       "      <th>price</th>\n",
       "      <th>km</th>\n",
       "      <th>hp</th>\n",
       "      <th>Previous_Owners</th>\n",
       "      <th>Inspection_New</th>\n",
       "      <th>Nr_of_Doors</th>\n",
       "      <th>Nr_of_Seats</th>\n",
       "      <th>Displacement</th>\n",
       "      <th>Gears</th>\n",
       "      <th>Age</th>\n",
       "      <th>...</th>\n",
       "      <th>Fuel_Benzine</th>\n",
       "      <th>Fuel_Diesel</th>\n",
       "      <th>Fuel_Electric</th>\n",
       "      <th>Fuel_LPG/CNG</th>\n",
       "      <th>Upholstery_Type_Cloth</th>\n",
       "      <th>Upholstery_Type_Part/Full Leather</th>\n",
       "      <th>Upholstery_Color_Black</th>\n",
       "      <th>Upholstery_Color_Brown</th>\n",
       "      <th>Upholstery_Color_Grey</th>\n",
       "      <th>Upholstery_Color_Other</th>\n",
       "    </tr>\n",
       "  </thead>\n",
       "  <tbody>\n",
       "    <tr>\n",
       "      <th>0</th>\n",
       "      <td>15770</td>\n",
       "      <td>56013.000</td>\n",
       "      <td>66.000</td>\n",
       "      <td>2.000</td>\n",
       "      <td>1</td>\n",
       "      <td>5.000</td>\n",
       "      <td>5.000</td>\n",
       "      <td>1422.000</td>\n",
       "      <td>5.000</td>\n",
       "      <td>3.000</td>\n",
       "      <td>...</td>\n",
       "      <td>0</td>\n",
       "      <td>1</td>\n",
       "      <td>0</td>\n",
       "      <td>0</td>\n",
       "      <td>1</td>\n",
       "      <td>0</td>\n",
       "      <td>1</td>\n",
       "      <td>0</td>\n",
       "      <td>0</td>\n",
       "      <td>0</td>\n",
       "    </tr>\n",
       "    <tr>\n",
       "      <th>1</th>\n",
       "      <td>14500</td>\n",
       "      <td>80000.000</td>\n",
       "      <td>141.000</td>\n",
       "      <td>1.000</td>\n",
       "      <td>0</td>\n",
       "      <td>3.000</td>\n",
       "      <td>4.000</td>\n",
       "      <td>1798.000</td>\n",
       "      <td>7.000</td>\n",
       "      <td>2.000</td>\n",
       "      <td>...</td>\n",
       "      <td>1</td>\n",
       "      <td>0</td>\n",
       "      <td>0</td>\n",
       "      <td>0</td>\n",
       "      <td>1</td>\n",
       "      <td>0</td>\n",
       "      <td>0</td>\n",
       "      <td>0</td>\n",
       "      <td>1</td>\n",
       "      <td>0</td>\n",
       "    </tr>\n",
       "    <tr>\n",
       "      <th>2</th>\n",
       "      <td>14640</td>\n",
       "      <td>83450.000</td>\n",
       "      <td>85.000</td>\n",
       "      <td>1.000</td>\n",
       "      <td>0</td>\n",
       "      <td>4.000</td>\n",
       "      <td>4.000</td>\n",
       "      <td>1598.000</td>\n",
       "      <td>5.000</td>\n",
       "      <td>3.000</td>\n",
       "      <td>...</td>\n",
       "      <td>0</td>\n",
       "      <td>1</td>\n",
       "      <td>0</td>\n",
       "      <td>0</td>\n",
       "      <td>1</td>\n",
       "      <td>0</td>\n",
       "      <td>1</td>\n",
       "      <td>0</td>\n",
       "      <td>0</td>\n",
       "      <td>0</td>\n",
       "    </tr>\n",
       "    <tr>\n",
       "      <th>3</th>\n",
       "      <td>14500</td>\n",
       "      <td>73000.000</td>\n",
       "      <td>66.000</td>\n",
       "      <td>1.000</td>\n",
       "      <td>0</td>\n",
       "      <td>3.000</td>\n",
       "      <td>4.000</td>\n",
       "      <td>1422.000</td>\n",
       "      <td>6.000</td>\n",
       "      <td>3.000</td>\n",
       "      <td>...</td>\n",
       "      <td>0</td>\n",
       "      <td>1</td>\n",
       "      <td>0</td>\n",
       "      <td>0</td>\n",
       "      <td>1</td>\n",
       "      <td>0</td>\n",
       "      <td>1</td>\n",
       "      <td>0</td>\n",
       "      <td>0</td>\n",
       "      <td>0</td>\n",
       "    </tr>\n",
       "    <tr>\n",
       "      <th>4</th>\n",
       "      <td>16790</td>\n",
       "      <td>16200.000</td>\n",
       "      <td>66.000</td>\n",
       "      <td>1.000</td>\n",
       "      <td>1</td>\n",
       "      <td>5.000</td>\n",
       "      <td>5.000</td>\n",
       "      <td>1422.000</td>\n",
       "      <td>5.000</td>\n",
       "      <td>3.000</td>\n",
       "      <td>...</td>\n",
       "      <td>0</td>\n",
       "      <td>1</td>\n",
       "      <td>0</td>\n",
       "      <td>0</td>\n",
       "      <td>1</td>\n",
       "      <td>0</td>\n",
       "      <td>1</td>\n",
       "      <td>0</td>\n",
       "      <td>0</td>\n",
       "      <td>0</td>\n",
       "    </tr>\n",
       "  </tbody>\n",
       "</table>\n",
       "<p>5 rows × 145 columns</p>\n",
       "</div>"
      ],
      "text/plain": [
       "   price        km      hp  Previous_Owners  Inspection_New  Nr_of_Doors  \\\n",
       "0  15770 56013.000  66.000            2.000               1        5.000   \n",
       "1  14500 80000.000 141.000            1.000               0        3.000   \n",
       "2  14640 83450.000  85.000            1.000               0        4.000   \n",
       "3  14500 73000.000  66.000            1.000               0        3.000   \n",
       "4  16790 16200.000  66.000            1.000               1        5.000   \n",
       "\n",
       "   Nr_of_Seats  Displacement  Gears   Age  ...  Fuel_Benzine  Fuel_Diesel  \\\n",
       "0        5.000      1422.000  5.000 3.000  ...             0            1   \n",
       "1        4.000      1798.000  7.000 2.000  ...             1            0   \n",
       "2        4.000      1598.000  5.000 3.000  ...             0            1   \n",
       "3        4.000      1422.000  6.000 3.000  ...             0            1   \n",
       "4        5.000      1422.000  5.000 3.000  ...             0            1   \n",
       "\n",
       "   Fuel_Electric  Fuel_LPG/CNG  Upholstery_Type_Cloth  \\\n",
       "0              0             0                      1   \n",
       "1              0             0                      1   \n",
       "2              0             0                      1   \n",
       "3              0             0                      1   \n",
       "4              0             0                      1   \n",
       "\n",
       "   Upholstery_Type_Part/Full Leather  Upholstery_Color_Black  \\\n",
       "0                                  0                       1   \n",
       "1                                  0                       0   \n",
       "2                                  0                       1   \n",
       "3                                  0                       1   \n",
       "4                                  0                       1   \n",
       "\n",
       "   Upholstery_Color_Brown  Upholstery_Color_Grey  Upholstery_Color_Other  \n",
       "0                       0                      0                       0  \n",
       "1                       0                      1                       0  \n",
       "2                       0                      0                       0  \n",
       "3                       0                      0                       0  \n",
       "4                       0                      0                       0  \n",
       "\n",
       "[5 rows x 145 columns]"
      ]
     },
     "execution_count": 22,
     "metadata": {},
     "output_type": "execute_result"
    }
   ],
   "source": [
    "df=pd.read_csv(\"final_scout_20201204.csv\")\n",
    "df.head()"
   ]
  },
  {
   "cell_type": "markdown",
   "metadata": {},
   "source": [
    "### Scaling and Train Test Split\n",
    "* Burada Min-Max Scaler kullanacagiz.\n",
    "* Min-max Scaler outliers sensitivedir. \n",
    "* Veride outlier cok ise min-max scaler kullanmamamiz gerekir. yoksa iyi performans alamayiz.\n",
    "* Elimizde outliers cok ise **`RobustScaler()`** kullanilir. Bu scale metodu outlier insensitivedir."
   ]
  },
  {
   "cell_type": "code",
   "execution_count": 23,
   "metadata": {},
   "outputs": [],
   "source": [
    "X = df.drop('price',axis=1).values\n",
    "y = df['price'].values\n",
    "\n",
    "X_train, X_test, y_train, y_test = train_test_split(X,y,test_size=0.2,random_state=42)"
   ]
  },
  {
   "cell_type": "code",
   "execution_count": 24,
   "metadata": {},
   "outputs": [],
   "source": [
    "# scaler = RobustScaler()\n",
    "scaler = MinMaxScaler()\n",
    "X_train= scaler.fit_transform(X_train)\n",
    "X_test = scaler.transform(X_test)"
   ]
  },
  {
   "cell_type": "code",
   "execution_count": 25,
   "metadata": {},
   "outputs": [
    {
     "data": {
      "text/plain": [
       "((12732, 144), (3183, 144))"
      ]
     },
     "execution_count": 25,
     "metadata": {},
     "output_type": "execute_result"
    }
   ],
   "source": [
    "X_train.shape, X_test.shape"
   ]
  },
  {
   "cell_type": "markdown",
   "metadata": {},
   "source": [
    "### Creating a Model"
   ]
  },
  {
   "cell_type": "code",
   "execution_count": 203,
   "metadata": {},
   "outputs": [],
   "source": [
    "# from tensorflow.keras.models import Sequential\n",
    "# from tensorflow.keras.layers import Dense, Activation\n",
    "# from tensorflow.keras.optimizers import Adam"
   ]
  },
  {
   "cell_type": "code",
   "execution_count": 204,
   "metadata": {},
   "outputs": [],
   "source": [
    "model = Sequential()\n",
    "\n",
    "model.add(Dense(144,activation='relu')) #144 feature var, Dense 144 seceriz.\n",
    "model.add(Dense(72,activation='relu'))\n",
    "model.add(Dense(24,activation='relu'))\n",
    "model.add(Dense(8,activation='relu'))\n",
    "model.add(Dense(1)) # regresyon oldugu icin output layer Dense 1 secilir, aktivation function olmaz.\n",
    "opt=Adam(lr=0.001)\n",
    "model.compile(optimizer=opt,loss='mse')"
   ]
  },
  {
   "cell_type": "code",
   "execution_count": 205,
   "metadata": {},
   "outputs": [],
   "source": [
    "early_stop = EarlyStopping(monitor='val_loss',mode='min',verbose=1,patience=10)"
   ]
  },
  {
   "cell_type": "code",
   "execution_count": 206,
   "metadata": {},
   "outputs": [
    {
     "name": "stdout",
     "output_type": "stream",
     "text": [
      "Epoch 1/300\n",
      "3183/3183 [==============================] - 4s 1ms/step - loss: 80011827.2085 - val_loss: 6686072.0000\n",
      "Epoch 2/300\n",
      "3183/3183 [==============================] - 3s 1ms/step - loss: 6545611.2118 - val_loss: 5155886.5000\n",
      "Epoch 3/300\n",
      "3183/3183 [==============================] - 3s 942us/step - loss: 4865298.7382 - val_loss: 5256764.5000\n",
      "Epoch 4/300\n",
      "3183/3183 [==============================] - 3s 981us/step - loss: 4371189.1618 - val_loss: 4307204.5000\n",
      "Epoch 5/300\n",
      "3183/3183 [==============================] - 3s 937us/step - loss: 3995955.0730 - val_loss: 3607125.7500\n",
      "Epoch 6/300\n",
      "3183/3183 [==============================] - 3s 955us/step - loss: 3684367.3156 - val_loss: 3470256.7500\n",
      "Epoch 7/300\n",
      "3183/3183 [==============================] - 3s 974us/step - loss: 3491458.6800 - val_loss: 3403424.2500\n",
      "Epoch 8/300\n",
      "3183/3183 [==============================] - 3s 951us/step - loss: 3366985.6715 - val_loss: 3089611.2500\n",
      "Epoch 9/300\n",
      "3183/3183 [==============================] - 3s 978us/step - loss: 3121451.5986 - val_loss: 3036595.0000\n",
      "Epoch 10/300\n",
      "3183/3183 [==============================] - 3s 1ms/step - loss: 2973437.2665 - val_loss: 3035050.5000\n",
      "Epoch 11/300\n",
      "3183/3183 [==============================] - 3s 968us/step - loss: 2952741.3572 - val_loss: 2976271.0000\n",
      "Epoch 12/300\n",
      "3183/3183 [==============================] - 3s 958us/step - loss: 2833328.0952 - val_loss: 2779202.5000\n",
      "Epoch 13/300\n",
      "3183/3183 [==============================] - 3s 954us/step - loss: 2676264.8247 - val_loss: 2868017.5000\n",
      "Epoch 14/300\n",
      "3183/3183 [==============================] - 3s 953us/step - loss: 2573273.1969 - val_loss: 2865487.7500\n",
      "Epoch 15/300\n",
      "3183/3183 [==============================] - 3s 999us/step - loss: 2415660.1985 - val_loss: 2758732.5000\n",
      "Epoch 16/300\n",
      "3183/3183 [==============================] - 3s 1ms/step - loss: 2373667.2325 - val_loss: 2813791.5000\n",
      "Epoch 17/300\n",
      "3183/3183 [==============================] - 3s 1ms/step - loss: 2434714.7931 - val_loss: 2817209.0000\n",
      "Epoch 18/300\n",
      "3183/3183 [==============================] - 3s 960us/step - loss: 2323495.2157 - val_loss: 2665218.7500\n",
      "Epoch 19/300\n",
      "3183/3183 [==============================] - 3s 964us/step - loss: 2093304.2664 - val_loss: 2700456.5000\n",
      "Epoch 20/300\n",
      "3183/3183 [==============================] - 3s 1ms/step - loss: 2250017.9199 - val_loss: 2691053.5000\n",
      "Epoch 21/300\n",
      "3183/3183 [==============================] - 3s 1ms/step - loss: 2159689.6744 - val_loss: 3630316.5000\n",
      "Epoch 22/300\n",
      "3183/3183 [==============================] - 3s 1ms/step - loss: 2033728.2566 - val_loss: 2638395.2500\n",
      "Epoch 23/300\n",
      "3183/3183 [==============================] - 3s 1ms/step - loss: 1976791.5852 - val_loss: 2562082.5000\n",
      "Epoch 24/300\n",
      "3183/3183 [==============================] - 3s 1ms/step - loss: 1935844.6923 - val_loss: 2528913.0000\n",
      "Epoch 25/300\n",
      "3183/3183 [==============================] - 3s 1ms/step - loss: 1924261.2179 - val_loss: 2417925.7500\n",
      "Epoch 26/300\n",
      "3183/3183 [==============================] - 3s 951us/step - loss: 1838380.6750 - val_loss: 2408413.0000\n",
      "Epoch 27/300\n",
      "3183/3183 [==============================] - 3s 955us/step - loss: 1760515.4316 - val_loss: 2368388.5000\n",
      "Epoch 28/300\n",
      "3183/3183 [==============================] - 3s 1ms/step - loss: 1832129.3244 - val_loss: 2434439.5000\n",
      "Epoch 29/300\n",
      "3183/3183 [==============================] - 3s 971us/step - loss: 1777243.3980 - val_loss: 2429906.7500\n",
      "Epoch 30/300\n",
      "3183/3183 [==============================] - 3s 989us/step - loss: 1711140.1371 - val_loss: 2749320.2500\n",
      "Epoch 31/300\n",
      "3183/3183 [==============================] - 3s 964us/step - loss: 1587997.5657 - val_loss: 2401740.2500\n",
      "Epoch 32/300\n",
      "3183/3183 [==============================] - 3s 947us/step - loss: 1555142.0851 - val_loss: 2591718.0000\n",
      "Epoch 33/300\n",
      "3183/3183 [==============================] - 3s 953us/step - loss: 1581432.7904 - val_loss: 2507214.0000\n",
      "Epoch 34/300\n",
      "3183/3183 [==============================] - 3s 953us/step - loss: 1515012.5121 - val_loss: 2342623.2500\n",
      "Epoch 35/300\n",
      "3183/3183 [==============================] - 3s 999us/step - loss: 1419344.6679 - val_loss: 2375331.5000\n",
      "Epoch 36/300\n",
      "3183/3183 [==============================] - 3s 969us/step - loss: 1442399.2671 - val_loss: 2496702.7500\n",
      "Epoch 37/300\n",
      "3183/3183 [==============================] - 3s 1ms/step - loss: 1493530.9954 - val_loss: 2307133.7500\n",
      "Epoch 38/300\n",
      "3183/3183 [==============================] - 4s 1ms/step - loss: 1312960.2988 - val_loss: 2503210.7500\n",
      "Epoch 39/300\n",
      "3183/3183 [==============================] - 4s 1ms/step - loss: 1359901.9418 - val_loss: 2354104.0000\n",
      "Epoch 40/300\n",
      "3183/3183 [==============================] - 3s 964us/step - loss: 1349573.2289 - val_loss: 2625878.2500\n",
      "Epoch 41/300\n",
      "3183/3183 [==============================] - 3s 952us/step - loss: 1375864.2664 - val_loss: 2563252.2500\n",
      "Epoch 42/300\n",
      "3183/3183 [==============================] - 3s 953us/step - loss: 1275429.7025 - val_loss: 2332178.2500\n",
      "Epoch 43/300\n",
      "3183/3183 [==============================] - 3s 953us/step - loss: 1249892.3189 - val_loss: 2318237.0000\n",
      "Epoch 44/300\n",
      "3183/3183 [==============================] - 3s 958us/step - loss: 1271663.0138 - val_loss: 2445328.5000\n",
      "Epoch 45/300\n",
      "3183/3183 [==============================] - 3s 1ms/step - loss: 1215526.4469 - val_loss: 2332100.7500\n",
      "Epoch 46/300\n",
      "3183/3183 [==============================] - 3s 960us/step - loss: 1214344.6068 - val_loss: 2410962.7500\n",
      "Epoch 47/300\n",
      "3183/3183 [==============================] - 3s 973us/step - loss: 1188813.4910 - val_loss: 2342202.5000\n",
      "Epoch 00047: early stopping\n"
     ]
    },
    {
     "data": {
      "text/plain": [
       "<tensorflow.python.keras.callbacks.History at 0x1f00843fbe0>"
      ]
     },
     "execution_count": 206,
     "metadata": {},
     "output_type": "execute_result"
    }
   ],
   "source": [
    "model.fit(x=X_train,y=y_train,\n",
    "          validation_data=(X_test,y_test),\n",
    "          batch_size=4,epochs=300,\n",
    "          callbacks=[early_stop])"
   ]
  },
  {
   "cell_type": "markdown",
   "metadata": {},
   "source": [
    "# Evaluation"
   ]
  },
  {
   "cell_type": "code",
   "execution_count": 207,
   "metadata": {},
   "outputs": [
    {
     "name": "stdout",
     "output_type": "stream",
     "text": [
      "Model: \"sequential_8\"\n",
      "_________________________________________________________________\n",
      "Layer (type)                 Output Shape              Param #   \n",
      "=================================================================\n",
      "dense_40 (Dense)             (None, 144)               20880     \n",
      "_________________________________________________________________\n",
      "dense_41 (Dense)             (None, 72)                10440     \n",
      "_________________________________________________________________\n",
      "dense_42 (Dense)             (None, 24)                1752      \n",
      "_________________________________________________________________\n",
      "dense_43 (Dense)             (None, 8)                 200       \n",
      "_________________________________________________________________\n",
      "dense_44 (Dense)             (None, 1)                 9         \n",
      "=================================================================\n",
      "Total params: 33,281\n",
      "Trainable params: 33,281\n",
      "Non-trainable params: 0\n",
      "_________________________________________________________________\n"
     ]
    }
   ],
   "source": [
    "model.summary()"
   ]
  },
  {
   "cell_type": "code",
   "execution_count": 208,
   "metadata": {},
   "outputs": [],
   "source": [
    "# Alternative Summary\n",
    "# It is working in Google Colab\n",
    "\n",
    "# from tensorflow.keras.utils import plot_model\n",
    "# dot_img_file = '/tmp/model_1.png'\n",
    "# plot_model(model, to_file=dot_img_file, show_shapes=True)"
   ]
  },
  {
   "cell_type": "code",
   "execution_count": 209,
   "metadata": {},
   "outputs": [
    {
     "data": {
      "text/plain": [
       "<AxesSubplot:>"
      ]
     },
     "execution_count": 209,
     "metadata": {},
     "output_type": "execute_result"
    },
    {
     "data": {
      "image/png": "[encoded data removed]",
      "text/plain": [
       "<Figure size 432x288 with 1 Axes>"
      ]
     },
     "metadata": {},
     "output_type": "display_data"
    }
   ],
   "source": [
    "loss_df = pd.DataFrame(model.history.history)\n",
    "loss_df.plot()\n",
    "# plt.ticklabel_format(style='plain')\n",
    "# plt.plot(losses)"
   ]
  },
  {
   "cell_type": "code",
   "execution_count": 210,
   "metadata": {},
   "outputs": [],
   "source": [
    "# Alternative with seaborn\n",
    "# loss = model.history.history['loss']\n",
    "# sns.lineplot(x=range(len(loss)),y=loss)\n",
    "# plt.title(\"Training Loss per Epoch\");"
   ]
  },
  {
   "cell_type": "markdown",
   "metadata": {},
   "source": [
    "**Loss-Epoch Graph**"
   ]
  },
  {
   "cell_type": "code",
   "execution_count": 211,
   "metadata": {},
   "outputs": [
    {
     "data": {
      "text/plain": [
       "(0.0, 50000000.0)"
      ]
     },
     "execution_count": 211,
     "metadata": {},
     "output_type": "execute_result"
    },
    {
     "data": {
      "image/png": "[encoded data removed]",
      "text/plain": [
       "<Figure size 432x288 with 1 Axes>"
      ]
     },
     "metadata": {},
     "output_type": "display_data"
    }
   ],
   "source": [
    "fig, ax= plt.subplots()\n",
    "ax.plot(loss_df)\n",
    "ax.set_xlabel(\"epoch\")\n",
    "ax.set_ylabel(\"loss\")\n",
    "ax.set_title(\"loss - epoch graph\")\n",
    "ax.set_xlim([0,30]) # focusing on the given x values\n",
    "ax.set_ylim([0,5e7]) # focusing on the given y values"
   ]
  },
  {
   "cell_type": "code",
   "execution_count": 212,
   "metadata": {},
   "outputs": [
    {
     "data": {
      "text/plain": [
       "46"
      ]
     },
     "execution_count": 212,
     "metadata": {},
     "output_type": "execute_result"
    }
   ],
   "source": [
    "loss_df.loss.idxmin() "
   ]
  },
  {
   "cell_type": "code",
   "execution_count": 213,
   "metadata": {},
   "outputs": [
    {
     "data": {
      "text/plain": [
       "1199584.25"
      ]
     },
     "execution_count": 213,
     "metadata": {},
     "output_type": "execute_result"
    }
   ],
   "source": [
    "loss_df.loss.min()"
   ]
  },
  {
   "cell_type": "code",
   "execution_count": 214,
   "metadata": {},
   "outputs": [
    {
     "data": {
      "text/plain": [
       "2307133.75"
      ]
     },
     "execution_count": 214,
     "metadata": {},
     "output_type": "execute_result"
    }
   ],
   "source": [
    "loss_df.val_loss.min()"
   ]
  },
  {
   "cell_type": "markdown",
   "metadata": {},
   "source": [
    "**Evaluation Metrics**"
   ]
  },
  {
   "cell_type": "code",
   "execution_count": 215,
   "metadata": {},
   "outputs": [],
   "source": [
    "def eval_metrics(actual, pred):\n",
    "    rmse = np.sqrt(mean_squared_error(actual, pred))\n",
    "    mae = mean_absolute_error(actual, pred)\n",
    "    mse = mean_squared_error(actual, pred)\n",
    "    r2score = r2_score(actual, pred)\n",
    "    print(f\"R2 Score: {r2score}\",\n",
    "          f\"Mean Absolute Error(MAE): {mae}\",\n",
    "          f\"Mean Square Error(MSE): {mse}\",\n",
    "          f\"Root Mean Square Error(RMSE): {rmse}\",sep=\"\\n\")"
   ]
  },
  {
   "cell_type": "code",
   "execution_count": 216,
   "metadata": {},
   "outputs": [
    {
     "name": "stdout",
     "output_type": "stream",
     "text": [
      "R2 Score: 0.9817964063420247\n",
      "Mean Absolute Error(MAE): 717.2005187240443\n",
      "Mean Square Error(MSE): 994107.1288172553\n",
      "Root Mean Square Error(RMSE): 997.0492108302656\n"
     ]
    }
   ],
   "source": [
    "#Training Data\n",
    "y_train_pred = model.predict(X_train)\n",
    "eval_metrics(y_train, y_train_pred)"
   ]
  },
  {
   "cell_type": "code",
   "execution_count": 217,
   "metadata": {},
   "outputs": [
    {
     "name": "stdout",
     "output_type": "stream",
     "text": [
      "R2 Score: 0.9565998124257487\n",
      "Mean Absolute Error(MAE): 988.075069982377\n",
      "Mean Square Error(MSE): 2342203.116786771\n",
      "Root Mean Square Error(RMSE): 1530.4257959100046\n"
     ]
    }
   ],
   "source": [
    "# Test Data\n",
    "y_pred = model.predict(X_test)\n",
    "eval_metrics(y_test, y_pred)"
   ]
  },
  {
   "cell_type": "code",
   "execution_count": 218,
   "metadata": {},
   "outputs": [
    {
     "name": "stdout",
     "output_type": "stream",
     "text": [
      "training_msa:994107.5\n",
      "test_msa:2342203.25\n"
     ]
    }
   ],
   "source": [
    "# Alternatively\n",
    "training_score = model.evaluate(X_train,y_train,verbose=0)\n",
    "test_score = model.evaluate(X_test,y_test,verbose=0)\n",
    "\n",
    "print('training_msa:',training_score,\n",
    "      '\\ntest_msa:', test_score,sep='')"
   ]
  },
  {
   "cell_type": "markdown",
   "metadata": {},
   "source": [
    "* In the above code, model.evaluate() gives MSE Score. Because, as a loss parametre, we use loss=\"mse\" in model.compile() when we create the model."
   ]
  },
  {
   "cell_type": "code",
   "execution_count": 219,
   "metadata": {},
   "outputs": [
    {
     "data": {
      "text/plain": [
       "0.9569063148659225"
      ]
     },
     "execution_count": 219,
     "metadata": {},
     "output_type": "execute_result"
    }
   ],
   "source": [
    "explained_variance_score(y_test,y_pred)"
   ]
  },
  {
   "cell_type": "markdown",
   "metadata": {},
   "source": [
    "> **explained_variance_score**\n",
    "\n",
    "> hata varyansi ile gercek degerin varyansi arasindaki orani hesaplamak icin kullanilan bir metrik. Modelin veri setindeki farkli varyasyonlari ne kadar iyi aciklayabildigini gosteren puandir. Genellikle 0,6 treshold uzeri olmasi beklenir."
   ]
  },
  {
   "cell_type": "markdown",
   "metadata": {},
   "source": [
    "**Let's compare to the real test labels!**"
   ]
  },
  {
   "cell_type": "code",
   "execution_count": 220,
   "metadata": {},
   "outputs": [
    {
     "data": {
      "text/plain": [
       "((3183,), (3183, 1))"
      ]
     },
     "execution_count": 220,
     "metadata": {},
     "output_type": "execute_result"
    }
   ],
   "source": [
    "y_test.shape, y_pred.shape"
   ]
  },
  {
   "cell_type": "code",
   "execution_count": 221,
   "metadata": {},
   "outputs": [
    {
     "data": {
      "text/html": [
       "<div>\n",
       "<style scoped>\n",
       "    .dataframe tbody tr th:only-of-type {\n",
       "        vertical-align: middle;\n",
       "    }\n",
       "\n",
       "    .dataframe tbody tr th {\n",
       "        vertical-align: top;\n",
       "    }\n",
       "\n",
       "    .dataframe thead th {\n",
       "        text-align: right;\n",
       "    }\n",
       "</style>\n",
       "<table border=\"1\" class=\"dataframe\">\n",
       "  <thead>\n",
       "    <tr style=\"text-align: right;\">\n",
       "      <th></th>\n",
       "      <th>Actual</th>\n",
       "      <th>Pred</th>\n",
       "    </tr>\n",
       "  </thead>\n",
       "  <tbody>\n",
       "    <tr>\n",
       "      <th>326</th>\n",
       "      <td>11790</td>\n",
       "      <td>10196.383</td>\n",
       "    </tr>\n",
       "    <tr>\n",
       "      <th>3050</th>\n",
       "      <td>11600</td>\n",
       "      <td>12346.861</td>\n",
       "    </tr>\n",
       "    <tr>\n",
       "      <th>1923</th>\n",
       "      <td>16500</td>\n",
       "      <td>16626.203</td>\n",
       "    </tr>\n",
       "    <tr>\n",
       "      <th>3137</th>\n",
       "      <td>19900</td>\n",
       "      <td>20157.297</td>\n",
       "    </tr>\n",
       "    <tr>\n",
       "      <th>273</th>\n",
       "      <td>17700</td>\n",
       "      <td>17418.738</td>\n",
       "    </tr>\n",
       "  </tbody>\n",
       "</table>\n",
       "</div>"
      ],
      "text/plain": [
       "      Actual      Pred\n",
       "326    11790 10196.383\n",
       "3050   11600 12346.861\n",
       "1923   16500 16626.203\n",
       "3137   19900 20157.297\n",
       "273    17700 17418.738"
      ]
     },
     "execution_count": 221,
     "metadata": {},
     "output_type": "execute_result"
    }
   ],
   "source": [
    "my_dict={\"Actual\":y_test, \n",
    "         \"Pred\":y_pred.reshape(-1,)}\n",
    "\n",
    "compare=pd.DataFrame(my_dict)\n",
    "compare.sample(5)"
   ]
  },
  {
   "cell_type": "code",
   "execution_count": 222,
   "metadata": {},
   "outputs": [
    {
     "data": {
      "image/png": "[encoded data removed]",
      "text/plain": [
       "<Figure size 432x288 with 1 Axes>"
      ]
     },
     "metadata": {},
     "output_type": "display_data"
    }
   ],
   "source": [
    "plt.scatter(compare.Actual,compare.Pred)\n",
    "plt.plot(compare.Actual,compare.Actual,'r');"
   ]
  },
  {
   "cell_type": "code",
   "execution_count": 223,
   "metadata": {},
   "outputs": [
    {
     "data": {
      "image/png": "[encoded data removed]",
      "text/plain": [
       "<Figure size 1080x288 with 1 Axes>"
      ]
     },
     "metadata": {},
     "output_type": "display_data"
    }
   ],
   "source": [
    "plt.figure(figsize=(15,4))\n",
    "compare['Error'] = compare['Actual'] - compare['Pred']\n",
    "sns.distplot(compare['Error'],kde=True,bins=100);"
   ]
  },
  {
   "cell_type": "markdown",
   "metadata": {},
   "source": [
    "## Predicting on brand new data"
   ]
  },
  {
   "cell_type": "code",
   "execution_count": 224,
   "metadata": {},
   "outputs": [
    {
     "data": {
      "text/plain": [
       "(15915, 145)"
      ]
     },
     "execution_count": 224,
     "metadata": {},
     "output_type": "execute_result"
    }
   ],
   "source": [
    "df.shape"
   ]
  },
  {
   "cell_type": "code",
   "execution_count": 225,
   "metadata": {},
   "outputs": [],
   "source": [
    "single_car = df.drop('price',axis=1).iloc[0]\n",
    "single_car = scaler.transform(single_car.values.reshape(-1, 144))"
   ]
  },
  {
   "cell_type": "code",
   "execution_count": 226,
   "metadata": {},
   "outputs": [
    {
     "name": "stdout",
     "output_type": "stream",
     "text": [
      "Prediction Price: 15326.324\n",
      "Actual Price: 15770\n"
     ]
    }
   ],
   "source": [
    "print('Prediction Price: ', *model.predict(single_car)[0], \n",
    "      '\\nActual Price: ',df.price.iloc[0], sep='')"
   ]
  },
  {
   "cell_type": "markdown",
   "metadata": {},
   "source": [
    "## Saving and Loading a Model\n",
    "* We dont use pickle for Keras when we save a DL Model.\n",
    "* Keras has a model loading station itself.\n",
    "* Google Colab te calisirken model kaydedildiginde sol tarafta gorunur. Model oradan drag&drop ile drive da istenen klasore tasinabilir.\n",
    "* Lets remember how to save a ML Model\n",
    "\n",
    "    import pickle\n",
    "    \n",
    "    pickle.dump(svm,open(\"svm\",\"wb\"))\n",
    "    \n",
    "    svm_model = pickle.load(open(\"svm\",\"rb\"))"
   ]
  },
  {
   "cell_type": "code",
   "execution_count": 227,
   "metadata": {},
   "outputs": [],
   "source": [
    "model.save('DL_Model.h5')  # creates a HDF5 file 'my_model.h5'\n",
    "later_model = load_model('DL_Model.h5')"
   ]
  },
  {
   "cell_type": "code",
   "execution_count": 233,
   "metadata": {},
   "outputs": [
    {
     "data": {
      "text/plain": [
       "15326.324"
      ]
     },
     "execution_count": 233,
     "metadata": {},
     "output_type": "execute_result"
    }
   ],
   "source": [
    "later_model.predict(single_car)[0][0]"
   ]
  },
  {
   "cell_type": "code",
   "execution_count": null,
   "metadata": {},
   "outputs": [],
   "source": []
  }
 ],
 "metadata": {
  "kernelspec": {
   "display_name": "Python 3",
   "language": "python",
   "name": "python3"
  },
  "language_info": {
   "codemirror_mode": {
    "name": "ipython",
    "version": 3
   },
   "file_extension": ".py",
   "mimetype": "text/x-python",
   "name": "python",
   "nbconvert_exporter": "python",
   "pygments_lexer": "ipython3",
   "version": "3.8.5"
  }
 },
 "nbformat": 4,
 "nbformat_minor": 4
}
